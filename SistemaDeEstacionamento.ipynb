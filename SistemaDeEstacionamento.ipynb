{
  "cells": [
    {
      "cell_type": "markdown",
      "metadata": {
        "id": "pEGcrvfHfpxe"
      },
      "source": [
        "<center><h2> <b>Sistema de estacionamento</b></h2></center>\n",
        "\n",
        "Você foi contratado para construir um sistema para um estacionamento\n",
        "realizando as seguintes operações:\n",
        "\n",
        "* adicionar e remover um veículo\n",
        "* Exibir o valor cobrado durante o período\n",
        "* Lista os veículos\n"
      ]
    },
    {
      "cell_type": "code",
      "execution_count": 54,
      "metadata": {
        "colab": {
          "base_uri": "https://localhost:8080/"
        },
        "id": "ekx4G7j5wPyS",
        "outputId": "d33731bb-f8cb-44a3-c12c-25323693ccbd"
      },
      "outputs": [
        {
          "output_type": "execute_result",
          "data": {
            "text/plain": [
              "<sqlite3.Cursor at 0x7d534be2e1c0>"
            ]
          },
          "metadata": {},
          "execution_count": 54
        }
      ],
      "source": [
        "import sqlite3,time\n",
        "\n",
        "# CRIA O BANCO DE DADOS ESTACIONAMENTO\n",
        "\n",
        "conn = sqlite3.connect(\"parking.db\")\n",
        "cursor = conn.cursor()\n",
        "\n",
        "# CRIA A TABELA VEICULO SE JÁ NÃO EXISTIR\n",
        "\n",
        "\n",
        "cursor.execute(\"\"\"\n",
        "  CREATE TABLE IF NOT EXISTS veiculo(\n",
        "  id INTEGER NOT NULL PRIMARY KEY AUTOINCREMENT,\n",
        "  modelo TEXT NOT NULL,\n",
        "  cor TEXT NOT NULL,\n",
        "  placa TEXT NOT NULL,\n",
        "  horasEntrada TEXT NOT NULL,\n",
        "  horasSaida TEXT\n",
        "  )\n",
        "\"\"\"\n",
        ")\n"
      ]
    },
    {
      "cell_type": "markdown",
      "metadata": {
        "id": "pYSW1VnjhCEg"
      },
      "source": [
        "<center>Cadastro de Veiculo"
      ]
    },
    {
      "cell_type": "code",
      "execution_count": 56,
      "metadata": {
        "id": "xxwWOZwM5_SM"
      },
      "outputs": [],
      "source": [
        "class Estacionamento():\n",
        "\n",
        "  def addVeiculo(self):\n",
        "\n",
        "    # ENTRADA DE DADOS NA TABELA\n",
        "\n",
        "    modelo =  input(\"Digite o Modelo do veiculo: \")\n",
        "    cor =  input(\"Digite a cor: \")\n",
        "    placa =  input(\"Digite a placa: \")\n",
        "    entradaTime = time.time()\n",
        "\n",
        "    # INSERE NA TABELA OS DADOS\n",
        "\n",
        "    cursor.execute(\"INSERT INTO veiculo(modelo,cor,placa,horasEntrada)VALUES(?,?,?,?)\",(modelo,cor,placa,entradaTime))\n",
        "    conn.commit()\n",
        "\n",
        "    return \"Veiculo cadastrado com sucesso!\"\n",
        "\n",
        "  def removeVeiculo(self):\n",
        "\n",
        "    placa = input(\"Placa do veiculo: \")\n",
        "\n",
        "    remover = cursor.execute(f\"DELETE FROM veiculo WHERE placa = '{placa}'\")\n",
        "    conn.commit()\n",
        "\n",
        "    print(\"Veiculo removido com sucesso !\")\n",
        "\n",
        "  def verLista(self):\n",
        "\n",
        "    listaVeiculo = cursor.execute(\"SELECT * FROM veiculo\")\n",
        "    for estacionado in listaVeiculo:\n",
        "      if listaVeiculo != False:\n",
        "       print(\"MODELO : \",estacionado[1])\n",
        "       print(\"PLACA: \",estacionado[3])\n",
        "       print(\"COR: \",estacionado[2])\n",
        "      else:\n",
        "        print(\"Não ar Veiculo Estacionado no momento\")\n",
        "\n",
        "  def encerrar(self):\n",
        "\n",
        "    placa = input(\"Inform a Placa: \")\n",
        "    carro = cursor.execute(\"SELECT * FROM veiculo\")\n",
        "\n",
        "    for i in carro:\n",
        "      numeroPlaca = (i[3])\n",
        "      tempo = (i[4])\n",
        "\n",
        "      if numeroPlaca == placa:\n",
        "        calculoTempo = (-(float(tempo)-time.time())/60)\n",
        "\n",
        "        # VERIFICAR VALOR A SER COBRADO\n",
        "\n",
        "        if calculoTempo <= 10:\n",
        "          valorCobrar = \"0:00\"\n",
        "        elif calculoTempo <= 60:\n",
        "          valorCobrar = \"15:00\"\n",
        "        else:\n",
        "          valorCobrar = \"25:00\"\n",
        "\n",
        "        print(\"\\n\\nVEÍCULO: {}\\nPLACA: {}\\nTempo de estacionamento: {:.0f} minutos...\\nValor Total: R${}\\n\\n\".format(i[1],numeroPlaca,calculoTempo,valorCobrar))\n"
      ]
    },
    {
      "cell_type": "markdown",
      "metadata": {
        "id": "H5mnHP0_QnFJ"
      },
      "source": [
        "# <center> Menu do Sistema de estacionamento\n"
      ]
    },
    {
      "cell_type": "code",
      "execution_count": 57,
      "metadata": {
        "colab": {
          "base_uri": "https://localhost:8080/"
        },
        "id": "W0MZhlIfooIE",
        "outputId": "c5722766-53ab-480e-f5c8-927273d01ce0"
      },
      "outputs": [
        {
          "output_type": "stream",
          "name": "stdout",
          "text": [
            "\n",
            "\n",
            " # Sistema de Estacionamento #\n",
            "\n",
            "[1]ADICIONAR VEICULO\n",
            "[2]REMOVER VEICULO\n",
            "[3]LISTAR VEICULOS\n",
            "[4]ENCERRAR\n",
            "\n",
            "3\n",
            "MODELO :  Neo 125\n",
            "PLACA:  RPK-0Q22\n",
            "COR:  Cinza\n",
            "\n",
            "\n",
            " # Sistema de Estacionamento #\n",
            "\n",
            "[1]ADICIONAR VEICULO\n",
            "[2]REMOVER VEICULO\n",
            "[3]LISTAR VEICULOS\n",
            "[4]ENCERRAR\n",
            "\n",
            "4\n",
            "Inform a Placa: RPK-0Q22\n",
            "\n",
            "\n",
            "VEÍCULO: Neo 125\n",
            "PLACA: RPK-0Q22\n",
            "Tempo de estacionamento: 57 minutos...\n",
            "Valor Total:R$15:00\n",
            "\n",
            "\n"
          ]
        }
      ],
      "source": [
        "while True:\n",
        "\n",
        "  menu = input(\"\\n\\n # Sistema de Estacionamento #\\n\\n[1]ADICIONAR VEICULO\\n[2]REMOVER VEICULO\\n[3]LISTAR VEICULOS\\n[4]ENCERRAR\\n\\n\")\n",
        "  if menu ==\"1\":\n",
        "    Estacionamento().addVeiculo()\n",
        "    print(\"SALVO COM SUCESSO !\")\n",
        "\n",
        "  elif menu ==\"2\":\n",
        "    Estacionamento().removeVeiculo()\n",
        "\n",
        "\n",
        "  elif menu ==\"3\":\n",
        "    Estacionamento().verLista()\n",
        "\n",
        "  elif menu ==\"4\":\n",
        "    Estacionamento().encerrar()\n",
        "    break\n",
        "  else:\n",
        "    print(\"### COMANDO INVALIDO ###\\nTente novamente!\")"
      ]
    }
  ],
  "metadata": {
    "colab": {
      "provenance": []
    },
    "kernelspec": {
      "display_name": "Python 3",
      "name": "python3"
    },
    "language_info": {
      "name": "python"
    }
  },
  "nbformat": 4,
  "nbformat_minor": 0
}